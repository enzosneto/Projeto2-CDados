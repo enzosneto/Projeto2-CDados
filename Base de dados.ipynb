{
 "cells": [
  {
   "cell_type": "code",
   "execution_count": 1,
   "metadata": {},
   "outputs": [
    {
     "name": "stdout",
     "output_type": "stream",
     "text": [
      "Requirement already satisfied: spotipy in e:\\anaconda\\lib\\site-packages (2.16.1)\n",
      "Requirement already satisfied: six>=1.10.0 in e:\\anaconda\\lib\\site-packages (from spotipy) (1.12.0)\n",
      "Requirement already satisfied: requests>=2.20.0 in e:\\anaconda\\lib\\site-packages (from spotipy) (2.22.0)\n",
      "Requirement already satisfied: chardet<3.1.0,>=3.0.2 in e:\\anaconda\\lib\\site-packages (from requests>=2.20.0->spotipy) (3.0.4)\n",
      "Requirement already satisfied: urllib3!=1.25.0,!=1.25.1,<1.26,>=1.21.1 in e:\\anaconda\\lib\\site-packages (from requests>=2.20.0->spotipy) (1.24.2)\n",
      "Requirement already satisfied: idna<2.9,>=2.5 in e:\\anaconda\\lib\\site-packages (from requests>=2.20.0->spotipy) (2.8)\n",
      "Requirement already satisfied: certifi>=2017.4.17 in e:\\anaconda\\lib\\site-packages (from requests>=2.20.0->spotipy) (2019.6.16)\n"
     ]
    }
   ],
   "source": [
    "!pip install spotipy"
   ]
  },
  {
   "cell_type": "code",
   "execution_count": 2,
   "metadata": {},
   "outputs": [],
   "source": [
    "import spotipy\n",
    "import spotipy.util as util\n",
    "from spotipy.oauth2 import SpotifyClientCredentials"
   ]
  },
  {
   "cell_type": "code",
   "execution_count": 3,
   "metadata": {},
   "outputs": [],
   "source": [
    "client_id= \"10c554315dc54b16a897470180d0f1dd\"\n",
    "client_secret= \"bc74cf1d809c46c1b67dd5e922ad3624\"\n",
    "redirect_uri='http://google.com'"
   ]
  },
  {
   "cell_type": "code",
   "execution_count": null,
   "metadata": {},
   "outputs": [
    {
     "name": "stderr",
     "output_type": "stream",
     "text": [
      "Couldn't read cache at: .cache-iNOo0469SDGm1U_svbpe3A\n"
     ]
    }
   ],
   "source": [
    "username='iNOo0469SDGm1U_svbpe3A'\n",
    "playlist = '4wbFYNK2OlDWteZm0yJLSM'\n",
    "client_credentials_manager = SpotifyClientCredentials(client_id=client_id, client_secret=client_secret)\n",
    "scope = 'user-library-read playlist-read-private'\n",
    "try:\n",
    "    token = util.prompt_for_user_token(username, scope,client_id=client_id, client_secret=client_secret, redirect_uri=redirect_uri)\n",
    "    sp=spotipy.Spotify(auth= token)\n",
    "except:\n",
    "    print('Token is not accesible for ' + username)"
   ]
  },
  {
   "cell_type": "code",
   "execution_count": null,
   "metadata": {},
   "outputs": [],
   "source": [
    "import argparse\n",
    "import pprint\n",
    "import sys\n",
    "import os\n",
    "import subprocess\n",
    "import json\n",
    "import pandas as pd\n",
    "\n",
    "#client_credentials_manager = SpotifyClientCredentials()\n",
    "\n",
    "def get_playlist_content(username, playlist_id, sp):\n",
    "    offset = 0\n",
    "    songs = []\n",
    "    while True:\n",
    "        content = sp.user_playlist_tracks(username, playlist_id, fields=None,\n",
    "                                          limit=100, offset=offset, market=None)\n",
    "        songs += content['items']\n",
    "        if content['next'] is not None:\n",
    "            offset += 100\n",
    "        else:\n",
    "            break\n",
    "\n",
    "    with open('{}-{}'.format(username, playlist_id), 'w') as outfile:\n",
    "        json.dump(songs, outfile)\n",
    "\n",
    "\n",
    "def get_playlist_audio_features(username, playlist_id, sp):\n",
    "    offset = 0\n",
    "    songs = []\n",
    "    items = []\n",
    "    ids = []\n",
    "    while True:\n",
    "        content = sp.user_playlist_tracks(username, playlist_id, fields=None, limit=100, offset=offset, market=None)\n",
    "        songs += content['items']\n",
    "        if content['next'] is not None:\n",
    "            offset += 100\n",
    "        else:\n",
    "            break\n",
    "\n",
    "    for i in songs:\n",
    "        ids.append(i['track']['id'])\n",
    "\n",
    "    index = 0\n",
    "    audio_features = []\n",
    "    while index < len(ids):\n",
    "        audio_features += sp.audio_features(ids[index:index + 50])\n",
    "        index += 50\n",
    "\n",
    "    features_list = []\n",
    "    for features in audio_features:\n",
    "        features_list.append([features['energy'], features['liveness'],\n",
    "                              features['tempo'], features['speechiness'],\n",
    "                              features['acousticness'], features['instrumentalness'],\n",
    "                              features['time_signature'], features['danceability'],\n",
    "                              features['key'], features['duration_ms'],\n",
    "                              features['loudness'], features['valence'],\n",
    "                              features['mode'], features['type'],\n",
    "                              features['uri']])\n",
    "\n",
    "    df = pd.DataFrame(features_list, columns=['energy', 'liveness',\n",
    "                                              'tempo', 'speechiness',\n",
    "                                              'acousticness', 'instrumentalness',\n",
    "                                              'time_signature', 'danceability',\n",
    "                                              'key', 'duration_ms', 'loudness',\n",
    "                                              'valence', 'mode', 'type', 'uri'])\n",
    "    df.to_csv('{}-{}.csv'.format(username, playlist_id), index=False)\n",
    "\n",
    "\n",
    "def get_user_playlist(username, sp):\n",
    "    playlists = sp.user_playlists(username)\n",
    "    for playlist in playlists['items']:\n",
    "        print(\"Name: {}, Number of songs: {}, Playlist ID: {} \".\n",
    "              format(playlist['name'].encode('utf8'),\n",
    "                     playlist['tracks']['total'],\n",
    "                     playlist['id']))"
   ]
  },
  {
   "cell_type": "code",
   "execution_count": null,
   "metadata": {},
   "outputs": [],
   "source": [
    "get_playlist_audio_features(username,'4gNfyP8v62S9T1o1uWDll3',sp)"
   ]
  },
  {
   "cell_type": "code",
   "execution_count": null,
   "metadata": {},
   "outputs": [],
   "source": [
    "\n",
    "get_playlist_content(username,playlist,sp)"
   ]
  },
  {
   "cell_type": "code",
   "execution_count": null,
   "metadata": {},
   "outputs": [],
   "source": [
    "get_user_playlist(username,sp)"
   ]
  },
  {
   "cell_type": "code",
   "execution_count": null,
   "metadata": {},
   "outputs": [],
   "source": []
  }
 ],
 "metadata": {
  "kernelspec": {
   "display_name": "Python 3",
   "language": "python",
   "name": "python3"
  },
  "language_info": {
   "codemirror_mode": {
    "name": "ipython",
    "version": 3
   },
   "file_extension": ".py",
   "mimetype": "text/x-python",
   "name": "python",
   "nbconvert_exporter": "python",
   "pygments_lexer": "ipython3",
   "version": "3.7.3"
  }
 },
 "nbformat": 4,
 "nbformat_minor": 2
}
